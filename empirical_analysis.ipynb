{
 "cells": [
  {
   "cell_type": "code",
   "execution_count": 29,
   "metadata": {},
   "outputs": [],
   "source": [
    "import pandas as pd\n",
    "import matplotlib.pyplot as plt\n",
    "import progressbar\n",
    "import numpy as np\n",
    "import random"
   ]
  },
  {
   "cell_type": "code",
   "execution_count": 142,
   "metadata": {},
   "outputs": [],
   "source": [
    "class comparison:\n",
    "    def __init__(self, iterations, limit_1, limit_2):\n",
    "        self.__iterations = iterations\n",
    "        self.__limits = (limit_1, limit_2)\n",
    "        self.__results = self.get_results(iterations, limit_1, limit_2)\n",
    "        \n",
    "    def get_limits(self):\n",
    "        return self.__limits\n",
    "    \n",
    "    def get_iterations(self):\n",
    "        return self.__iterations\n",
    "    \n",
    "    def get_df(self):\n",
    "        return self.__results\n",
    "    \n",
    "    def get_score(self, hand_ls):\n",
    "        '''\n",
    "        gets the best score depending on the given hand\n",
    "        \n",
    "        hand_ls[0] -> the array of cards which are not A's or B's\n",
    "        hand_ls[1] -> the number of A's (Can be 0,1)\n",
    "        hand_ls[2] -> the number of B's (Can be 0,1)\n",
    "        '''\n",
    "        \n",
    "        # possibilities of outcomes for different combination of A's\n",
    "        A_possibilities = dict()\n",
    "        A_possibilities[(0,0)] = [0]\n",
    "        A_possibilities[(0,1)] = [-11,-1]\n",
    "        A_possibilities[(1,0)] = [1,10]\n",
    "        A_possibilities[(1,1)] = [-10,0,10]\n",
    "        \n",
    "        # hand_sum is the sum of the hand without considering A's and B's\n",
    "        hand_sum = sum(hand_ls[0])\n",
    "        \n",
    "        # add all possibilities for A's and B's\n",
    "        current_possibilities = list(map(lambda x: x + hand_sum, A_possibilities[(hand_ls[1], hand_ls[2])]))\n",
    "        \n",
    "        # take largest possibility < 26\n",
    "        for current_possibility in reversed(current_possibilities):\n",
    "            if current_possibility < 26:\n",
    "                return current_possibility\n",
    "        \n",
    "        # if all possibilities > 26 return 0\n",
    "        return 0\n",
    "    \n",
    "    def get_draw(self, limit):\n",
    "        '''draw cards depending on the limit strategy'''\n",
    "        \n",
    "        all_cards = np.arange(1,10).tolist() + np.arange(-9,0).tolist()\n",
    "        all_cards = all_cards + [10]*3 + [-10]*3 + [\"A\"] + [\"B\"]\n",
    "        \n",
    "        cards_left = all_cards\n",
    "        current_hand = [list(), 0, 0]\n",
    "        \n",
    "        for number_of_cards_left in range (26,0,-1):\n",
    "            # get random card\n",
    "            current_index = random.randint(0, number_of_cards_left - 1)\n",
    "            current_card = cards_left[current_index]\n",
    "            \n",
    "            # remove card from cards_left and add to current_hand\n",
    "            if current_card == \"A\":\n",
    "                current_hand[1] += 1\n",
    "            elif current_card == \"B\":\n",
    "                current_hand[2] += 1\n",
    "            else:\n",
    "                current_hand[0].append(current_card)\n",
    "            \n",
    "            cards_left = cards_left[:current_index] + cards_left[current_index+1:]\n",
    "            \n",
    "            # calculate score of hand\n",
    "            current_score = self.get_score(current_hand)\n",
    "            \n",
    "            if current_score >= limit or current_score == 0:\n",
    "                return current_score\n",
    "        \n",
    "        return current_score\n",
    "        \n",
    "    \n",
    "    def get_results(self, iterations, limit_1, limit_2):\n",
    "        score_1 = list()\n",
    "        score_2 = list()\n",
    "        results = list()\n",
    "        \n",
    "        with progressbar.ProgressBar(max_value = iterations) as bar:\n",
    "            for x in range (0,iterations):\n",
    "                bar.update(x)\n",
    "                current_score_1 = self.get_draw(limit_1)\n",
    "                current_score_2 = self.get_draw(limit_2)\n",
    "                \n",
    "                score_1.append(current_score_1)\n",
    "                score_2.append(current_score_2)\n",
    "                \n",
    "                if current_score_1 > current_score_2:\n",
    "                    results.append(1)\n",
    "                elif current_score_1 < current_score_2:\n",
    "                    results.append(2)    \n",
    "                else:\n",
    "                    results.append(3)    \n",
    "        \n",
    "        results_dict = dict()\n",
    "        results_dict[\"Score 1\"] = score_1\n",
    "        results_dict[\"Score 2\"] = score_2\n",
    "        results_dict[\"Results\"] = results\n",
    "        \n",
    "        return pd.DataFrame(results_dict)"
   ]
  },
  {
   "cell_type": "code",
   "execution_count": 205,
   "metadata": {},
   "outputs": [
    {
     "name": "stderr",
     "output_type": "stream",
     "text": [
      "100% (1000000 of 1000000) |##############| Elapsed Time: 0:02:29 Time:  0:02:29\n"
     ]
    }
   ],
   "source": [
    "comparing_16_17 = comparison(1000000,21,22)"
   ]
  },
  {
   "cell_type": "code",
   "execution_count": 206,
   "metadata": {},
   "outputs": [],
   "source": [
    "df = comparing_16_17.get_df()"
   ]
  },
  {
   "cell_type": "code",
   "execution_count": 207,
   "metadata": {},
   "outputs": [
    {
     "data": {
      "text/plain": [
       "(array([444467.,      0.,      0.,      0.,      0.,      0.,      0.,\n",
       "             0.,      0.,      0., 171642.,      0.,      0.,      0.,\n",
       "             0.,      0.,      0.,      0.,      0.,      0.,      0.,\n",
       "        103475.,  85329.,  75212.,  64222.,  55653.]),\n",
       " array([ 0,  1,  2,  3,  4,  5,  6,  7,  8,  9, 10, 11, 12, 13, 14, 15, 16,\n",
       "        17, 18, 19, 20, 21, 22, 23, 24, 25, 26]),\n",
       " <a list of 26 Patch objects>)"
      ]
     },
     "execution_count": 207,
     "metadata": {},
     "output_type": "execute_result"
    },
    {
     "data": {
      "image/png": "[encoded data removed]",
      "text/plain": [
       "<Figure size 432x288 with 1 Axes>"
      ]
     },
     "metadata": {
      "needs_background": "light"
     },
     "output_type": "display_data"
    }
   ],
   "source": [
    "plt.hist(df[\"Score 1\"], bins = np.arange(0,27))"
   ]
  },
  {
   "cell_type": "code",
   "execution_count": 208,
   "metadata": {},
   "outputs": [
    {
     "data": {
      "text/plain": [
       "(array([469121.,      0.,      0.,      0.,      0.,      0.,      0.,\n",
       "             0.,      0.,      0., 193131.,      0.,      0.,      0.,\n",
       "             0.,      0.,      0.,      0.,      0.,      0.,      0.,\n",
       "             0., 105426.,  88326.,  76603.,  67393.]),\n",
       " array([ 0,  1,  2,  3,  4,  5,  6,  7,  8,  9, 10, 11, 12, 13, 14, 15, 16,\n",
       "        17, 18, 19, 20, 21, 22, 23, 24, 25, 26]),\n",
       " <a list of 26 Patch objects>)"
      ]
     },
     "execution_count": 208,
     "metadata": {},
     "output_type": "execute_result"
    },
    {
     "data": {
      "image/png": "[encoded data removed]",
      "text/plain": [
       "<Figure size 432x288 with 1 Axes>"
      ]
     },
     "metadata": {
      "needs_background": "light"
     },
     "output_type": "display_data"
    }
   ],
   "source": [
    "plt.hist(df[\"Score 2\"], bins = np.arange(0,27))"
   ]
  },
  {
   "cell_type": "code",
   "execution_count": 209,
   "metadata": {},
   "outputs": [
    {
     "data": {
      "text/plain": [
       "(array([369921., 363451., 266628.]),\n",
       " array([1, 2, 3, 4]),\n",
       " <a list of 3 Patch objects>)"
      ]
     },
     "execution_count": 209,
     "metadata": {},
     "output_type": "execute_result"
    },
    {
     "data": {
      "image/png": "[encoded data removed]",
      "text/plain": [
       "<Figure size 432x288 with 1 Axes>"
      ]
     },
     "metadata": {
      "needs_background": "light"
     },
     "output_type": "display_data"
    }
   ],
   "source": [
    "plt.hist(df[\"Results\"], bins = np.arange(1,5))"
   ]
  },
  {
   "cell_type": "code",
   "execution_count": null,
   "metadata": {},
   "outputs": [],
   "source": []
  }
 ],
 "metadata": {
  "kernelspec": {
   "display_name": "Python 3",
   "language": "python",
   "name": "python3"
  },
  "language_info": {
   "codemirror_mode": {
    "name": "ipython",
    "version": 3
   },
   "file_extension": ".py",
   "mimetype": "text/x-python",
   "name": "python",
   "nbconvert_exporter": "python",
   "pygments_lexer": "ipython3",
   "version": "3.7.3"
  }
 },
 "nbformat": 4,
 "nbformat_minor": 2
}
