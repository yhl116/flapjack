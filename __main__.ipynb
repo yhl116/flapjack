{
 "cells": [
  {
   "cell_type": "code",
   "execution_count": 1,
   "metadata": {},
   "outputs": [],
   "source": [
    "import pandas as pd\n",
    "import matplotlib.pyplot as plt\n",
    "import progressbar\n",
    "import numpy as np"
   ]
  },
  {
   "cell_type": "code",
   "execution_count": 5,
   "metadata": {},
   "outputs": [],
   "source": [
    "class comparison:\n",
    "    def get_score(hand_ls):\n",
    "        '''gets the best score depending on the given hand\n",
    "        \n",
    "           hand_ls[0] -> the array of cards which are not As \n",
    "           hand_ls[1] -> the number of Black A's (Can be 0,1,2)\n",
    "           hand_ls[1] -> the number of Red A's (Can be 0,1,2)\n",
    "        \n",
    "        '''\n",
    "        \n",
    "        score = sum(hand_ls[0])\n",
    "        \n",
    "        # if doesnt any As\n",
    "        if(hand_ls[1] == 0 and hand_ls[2] == 0):\n",
    "            return score\n",
    "        else:\n",
    "            \n",
    "            \n",
    "            \n",
    "            \n",
    "        return score\n",
    "    \n",
    "    def get_draw(limit):\n",
    "        '''draw cards depending on the limit strategy'''\n",
    "        \n",
    "        # possibilities of outcomes for different combination of A's\n",
    "        A_possibilities[(0,1)] = [-11,-1]\n",
    "        A_possibilities[(0,2)] = [-22,-12,-2]\n",
    "        A_possibilities[(1,0)] = [1,10]\n",
    "        A_possibilities[(1,1)] = [-10,0,10]\n",
    "        A_possibilities[(1,2)] = []\n",
    "        A_possibilities[(2,0)] = [2,12,22]\n",
    "        A_possibilities[(2,1)] = [1,10]\n",
    "        A_possibilities[(2,2)] = []\n",
    "        \n",
    "        \n",
    "        for number_of_cards_left in range (52,0,-1):\n",
    "            \n",
    "        \n",
    "        \n",
    "        \n",
    "        return current_score\n",
    "        \n",
    "    \n",
    "    def get_results(iterations, limit_1, limit_2):\n",
    "        return\n",
    "    \n",
    "    def __init__(self, iterations, limit_1, limit_2):\n",
    "        self.__iterations = iterations\n",
    "        self.__limits = (limit_1, limit_2)\n",
    "    \n",
    "        \n",
    "    def get_limits():\n",
    "        return __limits\n",
    "    \n",
    "    def get_iterations():\n",
    "        return iterations\n",
    "        "
   ]
  },
  {
   "cell_type": "code",
   "execution_count": 8,
   "metadata": {},
   "outputs": [
    {
     "data": {
      "text/plain": [
       "45"
      ]
     },
     "execution_count": 8,
     "metadata": {},
     "output_type": "execute_result"
    }
   ],
   "source": [
    "sum(np.arange(0,10).tolist())"
   ]
  },
  {
   "cell_type": "code",
   "execution_count": 11,
   "metadata": {},
   "outputs": [
    {
     "name": "stdout",
     "output_type": "stream",
     "text": [
      "52\n",
      "51\n",
      "50\n",
      "49\n",
      "48\n",
      "47\n",
      "46\n",
      "45\n",
      "44\n",
      "43\n",
      "42\n",
      "41\n",
      "40\n",
      "39\n",
      "38\n",
      "37\n",
      "36\n",
      "35\n",
      "34\n",
      "33\n",
      "32\n",
      "31\n",
      "30\n",
      "29\n",
      "28\n",
      "27\n",
      "26\n",
      "25\n",
      "24\n",
      "23\n",
      "22\n",
      "21\n",
      "20\n",
      "19\n",
      "18\n",
      "17\n",
      "16\n",
      "15\n",
      "14\n",
      "13\n",
      "12\n",
      "11\n",
      "10\n",
      "9\n",
      "8\n",
      "7\n",
      "6\n",
      "5\n",
      "4\n",
      "3\n",
      "2\n",
      "1\n"
     ]
    }
   ],
   "source": [
    "for cards_left in range (52,0,-1):\n",
    "    print(cards_left)"
   ]
  },
  {
   "cell_type": "code",
   "execution_count": null,
   "metadata": {},
   "outputs": [],
   "source": []
  }
 ],
 "metadata": {
  "kernelspec": {
   "display_name": "Python 3",
   "language": "python",
   "name": "python3"
  },
  "language_info": {
   "codemirror_mode": {
    "name": "ipython",
    "version": 3
   },
   "file_extension": ".py",
   "mimetype": "text/x-python",
   "name": "python",
   "nbconvert_exporter": "python",
   "pygments_lexer": "ipython3",
   "version": "3.7.3"
  }
 },
 "nbformat": 4,
 "nbformat_minor": 2
}
